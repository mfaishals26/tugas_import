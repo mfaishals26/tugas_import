{
 "cells": [
  {
   "cell_type": "code",
   "execution_count": 5,
   "id": "6d8fbfef-9763-4caf-aa92-2bab5648bc40",
   "metadata": {},
   "outputs": [
    {
     "name": "stdout",
     "output_type": "stream",
     "text": [
      "huruf besar : 3\n"
     ]
    }
   ],
   "source": [
    "from hitung import hitung_huruf\n",
    "\n",
    "teks_input = \"Muhammad Faishal Setiawan\"\n",
    "jumlah_huruf = hitung_huruf(teks_input)\n",
    "print(f\"huruf besar : {jumlah_huruf}\")"
   ]
  },
  {
   "cell_type": "code",
   "execution_count": null,
   "id": "e40592fe-396e-48b9-a342-2c95cad43460",
   "metadata": {},
   "outputs": [],
   "source": []
  },
  {
   "cell_type": "code",
   "execution_count": null,
   "id": "9e45e8c6-9409-49c9-a66b-ef625f7afae2",
   "metadata": {},
   "outputs": [],
   "source": []
  }
 ],
 "metadata": {
  "kernelspec": {
   "display_name": "Python 3 (ipykernel)",
   "language": "python",
   "name": "python3"
  },
  "language_info": {
   "codemirror_mode": {
    "name": "ipython",
    "version": 3
   },
   "file_extension": ".py",
   "mimetype": "text/x-python",
   "name": "python",
   "nbconvert_exporter": "python",
   "pygments_lexer": "ipython3",
   "version": "3.11.7"
  }
 },
 "nbformat": 4,
 "nbformat_minor": 5
}
